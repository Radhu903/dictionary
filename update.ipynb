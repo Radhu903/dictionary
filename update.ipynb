{
 "cells": [
  {
   "cell_type": "code",
   "execution_count": 33,
   "metadata": {},
   "outputs": [],
   "source": [
    "import os\n",
    "import xml.etree.ElementTree as ET\n",
    "from pathlib import Path\n"
   ]
  },
  {
   "cell_type": "code",
   "execution_count": 34,
   "metadata": {
    "scrolled": false
   },
   "outputs": [
    {
     "name": "stdout",
     "output_type": "stream",
     "text": [
      "cwd:  /Users/pm286/dictionary\n",
      "files  ['funder.xml', 'zoonosis.xml', 'disease.xml', 'openVirus_schema.xsd', 'country.xml', 'testTrace.xml', 'virus.xml', 'npi.xml', 'drug.xml', 'simple.xml', 'bad.xml']\n"
     ]
    }
   ],
   "source": [
    "print(\"cwd: \" , os.getcwd())\n",
    "HOME = str(Path.home())\n",
    "OPEN_DICT = os.path.join(HOME, \"dictionary\")\n",
    "OPEN_VIRUS = os.path.join(OPEN_DICT, \"openVirus\")\n",
    "files = os.listdir(OPEN_VIRUS)\n",
    "print(\"files \" , files)\n"
   ]
  },
  {
   "cell_type": "code",
   "execution_count": 29,
   "metadata": {},
   "outputs": [],
   "source": [
    "def checkEntry(entry):\n",
    "    \"\"\" check entry attributes\"\"\"\n",
    "    attnames = set(['description', 'id', 'name', 'term', 'wikidataID', 'wikidataURL', 'wikipediaPage', 'wikipediaURL'])\n",
    "    attribs = entry.attrib\n",
    "    for attname in attribs:\n",
    "#        print(\"att \"+attname)\n",
    "        if attname in attnames:\n",
    "#            print(\"found \"+attname)\n",
    "            pass\n",
    "        elif attname.startswith(\"_p\"):\n",
    "#            print(\"property \"+attname)\n",
    "            pass\n",
    "        else:\n",
    "            print(\"unknown: \",attname)"
   ]
  },
  {
   "cell_type": "code",
   "execution_count": 24,
   "metadata": {},
   "outputs": [],
   "source": [
    "def checkDesc(desc):\n",
    "    \"\"\" add description\"\"\"\n",
    "    pass"
   ]
  },
  {
   "cell_type": "code",
   "execution_count": 36,
   "metadata": {},
   "outputs": [],
   "source": [
    "from lxml import etree\n",
    "def checkFile(file):\n",
    "    tree = ET.parse(file)\n",
    "    root = tree.getroot()\n",
    "    print(\"\\nroot \", str(file), \": \", root.tag, \" ~ \", str(root.attrib))\n",
    "    count = 0\n",
    "    for child in root:\n",
    "        if child.tag == \"entry\":\n",
    "            checkEntry(child)\n",
    "        elif child.tag == \"desc\":\n",
    "            checkDesc(child)\n",
    "        else: \n",
    "            print (\"UNKNOWN TAG: \", child.tag)\n",
    "        count += 1\n",
    "    print(\"entries \"+str(count))\n",
    "\n",
    "    "
   ]
  },
  {
   "cell_type": "code",
   "execution_count": 47,
   "metadata": {
    "scrolled": false
   },
   "outputs": [],
   "source": [
    "def validateFile(file):\n",
    "    \n",
    "    # read openVirus schema\n",
    "    xmlschema_file = os.path.join(OPEN_VIRUS, 'openVirus_schema.xsd')\n",
    "    xmlschema_doc = etree.parse(xmlschema_file)\n",
    "    xmlschema = etree.XMLSchema(xmlschema_doc)\n",
    "    \n",
    "    doc = etree.parse(file)\n",
    "#    doc = etree.XML(etree.tostring(root))\n",
    "    validation_result = xmlschema.validate(doc)\n",
    "    print(validation_result)"
   ]
  },
  {
   "cell_type": "code",
   "execution_count": null,
   "metadata": {},
   "outputs": [],
   "source": [
    "def edit(file, wikidataIdsToDelete):\n",
    "    tree = ET.parse(file)\n",
    "    root = tree.getroot()\n",
    "    count = 0\n",
    "    cleaned = []\n",
    "    for child in root:\n",
    "        if child.tag == \"entry\":\n",
    "            wikidataId = child.attrib.get(\"wikidataId\")\n",
    "            if (wikidataId in wikidataIdsToDelete):\n",
    "                print(\"deleted \"+wikidataId)\n",
    "                root.delete(child)\n",
    "            else:\n",
    "                cleaned.append(child)\n",
    "        elif child.tag == \"desc\":\n",
    "            cleaned.append(child)\n",
    "    return cleaned\n",
    "    print(\"entries \"+str(count))"
   ]
  },
  {
   "cell_type": "code",
   "execution_count": 51,
   "metadata": {
    "scrolled": true
   },
   "outputs": [
    {
     "name": "stdout",
     "output_type": "stream",
     "text": [
      "file:  /Users/pm286/dictionary/openVirus/country.xml\n",
      "False\n",
      "file:  /Users/pm286/dictionary/openVirus/funder.xml\n",
      "\n",
      "root  /Users/pm286/dictionary/openVirus/funder.xml :  dictionary  ~  {'title': 'funder'}\n",
      "entries 13110\n",
      "False\n",
      "file:  /Users/pm286/dictionary/openVirus/zoonosis.xml\n",
      "\n",
      "root  /Users/pm286/dictionary/openVirus/zoonosis.xml :  dictionary  ~  {'title': 'zoonosis'}\n",
      "entries 30\n",
      "True\n",
      "file:  /Users/pm286/dictionary/openVirus/disease.xml\n",
      "\n",
      "root  /Users/pm286/dictionary/openVirus/disease.xml :  dictionary  ~  {'title': 'disease'}\n",
      "entries 13836\n",
      "False\n",
      "file:  /Users/pm286/dictionary/openVirus/country.xml\n",
      "\n",
      "root  /Users/pm286/dictionary/openVirus/country.xml :  dictionary  ~  {'title': 'country'}\n",
      "entries 264\n",
      "False\n",
      "file:  /Users/pm286/dictionary/openVirus/testTrace.xml\n",
      "\n",
      "root  /Users/pm286/dictionary/openVirus/testTrace.xml :  dictionary  ~  {'title': 'testTrace'}\n",
      "entries 37\n",
      "False\n",
      "file:  /Users/pm286/dictionary/openVirus/virus.xml\n",
      "\n",
      "root  /Users/pm286/dictionary/openVirus/virus.xml :  dictionary  ~  {'title': 'virus'}\n",
      "entries 118\n",
      "False\n",
      "file:  /Users/pm286/dictionary/openVirus/npi.xml\n",
      "\n",
      "root  /Users/pm286/dictionary/openVirus/npi.xml :  dictionary  ~  {'title': 'npi'}\n",
      "entries 40\n",
      "True\n",
      "file:  /Users/pm286/dictionary/openVirus/drug.xml\n",
      "\n",
      "root  /Users/pm286/dictionary/openVirus/drug.xml :  dictionary  ~  {'title': 'drug'}\n",
      "entries 1505\n",
      "True\n",
      "file:  /Users/pm286/dictionary/openVirus/simple.xml\n",
      "\n",
      "root  /Users/pm286/dictionary/openVirus/simple.xml :  dictionary  ~  {'title': 'simple'}\n",
      "entries 2\n",
      "True\n",
      "file:  /Users/pm286/dictionary/openVirus/bad.xml\n",
      "\n",
      "root  /Users/pm286/dictionary/openVirus/bad.xml :  dictionary  ~  {'title': 'simple'}\n",
      "unknown:  unknownatt\n",
      "entries 2\n",
      "False\n"
     ]
    },
    {
     "data": {
      "text/plain": [
       "'   \\ndeletedIds = set([\"Q123\", \"Q234\"])\\nfile = os.path.join(OPEN_VIRUS, \"country.xml\")\\nfile1 = os.path.join(OPEN_VIRUS, \"bad_country.xml\")\\nnewroot= edit(file, deletedIds)\\nxml = ET.tostring(newroot, encoding=\"UTF-8\")\\nprint(\"X \"+xml)\\n'"
      ]
     },
     "execution_count": 51,
     "metadata": {},
     "output_type": "execute_result"
    }
   ],
   "source": [
    "#file = os.path.join(OPEN_VIRUS, \"bad.xml\")\n",
    "file = os.path.join(OPEN_VIRUS, \"country.xml\")\n",
    "print(\"file: \", file)\n",
    "# checkFile(file)\n",
    "validateFile(file)\n",
    "\n",
    "for filename in files:\n",
    "    if (filename.endswith(\".xml\")):\n",
    "        file = os.path.join(OPEN_VIRUS, filename)\n",
    "        print(\"file: \", file)\n",
    "        checkFile(file)\n",
    "        validateFile(file)\n",
    "\n",
    "\"\"\"   \n",
    "deletedIds = set([\"Q123\", \"Q234\"])\n",
    "file = os.path.join(OPEN_VIRUS, \"country.xml\")\n",
    "file1 = os.path.join(OPEN_VIRUS, \"bad_country.xml\")\n",
    "newroot= edit(file, deletedIds)\n",
    "xml = ET.tostring(newroot, encoding=\"UTF-8\")\n",
    "print(\"X \"+xml)\n",
    "\"\"\""
   ]
  },
  {
   "cell_type": "code",
   "execution_count": null,
   "metadata": {},
   "outputs": [],
   "source": []
  }
 ],
 "metadata": {
  "kernelspec": {
   "display_name": "Python 3",
   "language": "python",
   "name": "python3"
  },
  "language_info": {
   "codemirror_mode": {
    "name": "ipython",
    "version": 3
   },
   "file_extension": ".py",
   "mimetype": "text/x-python",
   "name": "python",
   "nbconvert_exporter": "python",
   "pygments_lexer": "ipython3",
   "version": "3.8.3"
  }
 },
 "nbformat": 4,
 "nbformat_minor": 4
}
