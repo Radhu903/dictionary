{
 "cells": [
  {
   "cell_type": "code",
   "execution_count": 1,
   "metadata": {
    "button": false,
    "new_sheet": false,
    "run_control": {
     "read_only": false
    }
   },
   "outputs": [],
   "source": [
    "import os\n",
    "import xml.etree.ElementTree as ET\n",
    "from pathlib import Path\n"
   ]
  },
  {
   "cell_type": "code",
   "execution_count": 2,
   "metadata": {
    "button": false,
    "new_sheet": false,
    "run_control": {
     "read_only": false
    },
    "scrolled": false
   },
   "outputs": [
    {
     "name": "stdout",
     "output_type": "stream",
     "text": [
      "cwd:  /Users/pm286/dictionary\n",
      "dictionaries  ['organization', 'test_trace', 'disease', 'zoonosis', 'npi', 'drug', 'country', 'virus']\n"
     ]
    }
   ],
   "source": [
    "print(\"cwd: \" , os.getcwd())\n",
    "HOME = str(Path.home())\n",
    "# checkout from https://github.com/petermr/dictionary\n",
    "# this is your local name\n",
    "OPEN_DICT = os.path.join(HOME, \"dictionary\")\n",
    "\n",
    "currentDictionaryTop = \"openVirus202011\"\n",
    "# currentDictionaryTop = \"openVirus202009\"\n",
    "\n",
    "OPEN_VIRUS_DICT = os.path.join(OPEN_DICT, currentDictionaryTop)\n",
    "# dictionary folders\n",
    "dictionaries = os.listdir(OPEN_VIRUS_DICT)\n",
    "print(\"dictionaries \" , dictionaries)\n"
   ]
  },
  {
   "cell_type": "code",
   "execution_count": 3,
   "metadata": {
    "button": false,
    "new_sheet": false,
    "run_control": {
     "read_only": false
    }
   },
   "outputs": [],
   "source": [
    "def checkEntry(entry):\n",
    "    \"\"\" check entry attributes\"\"\"\n",
    "    attnames = set(['description', 'id', 'name', 'term', 'wikidataID', 'wikidataURL', 'wikipediaPage', 'wikipediaURL'])\n",
    "    attribs = entry.attrib\n",
    "    unknown_names = set()\n",
    "    for attname in attribs:\n",
    "#        print(\"att \"+attname)\n",
    "        if attname in attnames:\n",
    "#            print(\"found \"+attname)\n",
    "            pass\n",
    "        elif attname.startswith(\"_p\"):\n",
    "#            print(\"property \"+attname)\n",
    "            pass\n",
    "        else:\n",
    "            if not attname in unknown_names:\n",
    "#                 print(\"unknown attname: \",attname)\n",
    "                unknown_names.add(attname)\n",
    "#                 print(\"un \", unknown_names)\n",
    "\n",
    "    return unknown_names\n",
    "            "
   ]
  },
  {
   "cell_type": "code",
   "execution_count": 4,
   "metadata": {
    "button": false,
    "new_sheet": false,
    "run_control": {
     "read_only": false
    }
   },
   "outputs": [],
   "source": [
    "def checkDesc(desc):\n",
    "    \"\"\" add description\"\"\"\n",
    "    pass"
   ]
  },
  {
   "cell_type": "code",
   "execution_count": 5,
   "metadata": {
    "button": false,
    "new_sheet": false,
    "run_control": {
     "read_only": false
    }
   },
   "outputs": [],
   "source": [
    "from lxml import etree\n",
    "def checkFile(file, max_entry = 50):\n",
    "    tree = ET.parse(file)\n",
    "    root = tree.getroot()\n",
    "    print(\"\\nroot \", str(file), \": \", root.tag, \" ~ \", str(root.attrib))\n",
    "    count = 0\n",
    "    unknown_count = 0\n",
    "    max_unknown = 3\n",
    "    for child in root[:max_entry]:\n",
    "        if child.tag == \"entry\":\n",
    "            unknown_names = checkEntry(child)\n",
    "            if len(unknown_names) > 0 and unknown_count < max_unknown:\n",
    "                unknown_count += 1\n",
    "                print(\"unknown attributes \", unknown_names)\n",
    "        elif child.tag == \"desc\":\n",
    "            checkDesc(child)\n",
    "        else: \n",
    "            print (\"UNKNOWN TAG: \", child.tag)\n",
    "        count += 1\n",
    "    print(\"entries \"+str(count))\n",
    "\n",
    "    "
   ]
  },
  {
   "cell_type": "code",
   "execution_count": 6,
   "metadata": {
    "button": false,
    "new_sheet": false,
    "run_control": {
     "read_only": false
    },
    "scrolled": false
   },
   "outputs": [],
   "source": [
    "def validateFile(file):\n",
    "    \n",
    "    # read openVirus schema\n",
    "    xmlschema_file = os.path.join(OPEN_DICT, 'schema', 'openVirus_schema.xsd')\n",
    "    xmlschema_doc = etree.parse(xmlschema_file)\n",
    "    xmlschema = etree.XMLSchema(xmlschema_doc)\n",
    "    \n",
    "    doc = etree.parse(file)\n",
    "#    doc = etree.XML(etree.tostring(root))\n",
    "    validation_result = xmlschema.validate(doc)\n",
    "    print(validation_result)"
   ]
  },
  {
   "cell_type": "code",
   "execution_count": 7,
   "metadata": {
    "button": false,
    "new_sheet": false,
    "run_control": {
     "read_only": false
    }
   },
   "outputs": [],
   "source": [
    "def edit(file, wikidataIdsToDelete):\n",
    "    tree = ET.parse(file)\n",
    "    root = tree.getroot()\n",
    "    count = 0\n",
    "    cleaned = []\n",
    "    for child in root:\n",
    "        if child.tag == \"entry\":\n",
    "            wikidataId = child.attrib.get(\"wikidataId\")\n",
    "            if (wikidataId in wikidataIdsToDelete):\n",
    "                print(\"deleted \"+wikidataId)\n",
    "                root.delete(child)\n",
    "            else:\n",
    "                cleaned.append(child)\n",
    "        elif child.tag == \"desc\":\n",
    "            cleaned.append(child)\n",
    "    return cleaned\n",
    "    print(\"entries \"+str(count))"
   ]
  },
  {
   "cell_type": "code",
   "execution_count": 8,
   "metadata": {
    "button": false,
    "new_sheet": false,
    "run_control": {
     "read_only": false
    }
   },
   "outputs": [],
   "source": [
    "#file = os.path.join(OPEN_VIRUS, \"bad.xml\")\n",
    "def validateDictionary(dictionary, dictionary_file, check=True, validate=True):\n",
    "    if not os.path.exists(dictionary_file):\n",
    "        print(\"dictionary file does not exist\", dictionary_file)\n",
    "        return False\n",
    "    print(\"dictionary file: \", dictionary_file)\n",
    "    if check:\n",
    "        checkFile(dictionary_file)\n",
    "    if validate:\n",
    "        validateFile(dictionary_file)"
   ]
  },
  {
   "cell_type": "code",
   "execution_count": 9,
   "metadata": {
    "button": false,
    "new_sheet": false,
    "run_control": {
     "read_only": false
    }
   },
   "outputs": [],
   "source": [
    "def validateDictionaries(dictionary_root, check=True, validate=True):\n",
    "    os.chdir(dictionary_root)\n",
    "    if not os.path.exists(dictionary_root):\n",
    "        print(\"dictionary root does not exist\", dictionary_root)\n",
    "        return False\n",
    "    dictionary_names = os.listdir()\n",
    "    for dictionary_name in dictionary_names:\n",
    "        dictionary_folder = os.path.join(dictionary_root, dictionary_name)\n",
    "        if not os.path.isdir(dictionary_folder):\n",
    "            print(\"skipped\", dictionary_folder)\n",
    "            continue\n",
    "        os.chdir(dictionary_folder)\n",
    "        dictionary_file = os.path.join(dictionary_folder, dictionary_name + \".xml\")\n",
    "        validateDictionary(dictionary_name, dictionary_file, check, validate)\n"
   ]
  },
  {
   "cell_type": "code",
   "execution_count": 10,
   "metadata": {
    "button": false,
    "new_sheet": false,
    "run_control": {
     "read_only": false
    },
    "scrolled": false
   },
   "outputs": [
    {
     "name": "stdout",
     "output_type": "stream",
     "text": [
      "dictionary file:  /Users/pm286/dictionary/openVirus202011/test_trace/test_trace.xml\n",
      "\n",
      "root  /Users/pm286/dictionary/openVirus202011/test_trace/test_trace.xml :  dictionary  ~  {'title': 'test_trace'}\n",
      "entries 36\n",
      "False\n"
     ]
    }
   ],
   "source": [
    "# validate single dictionary\n",
    "check = True\n",
    "validate = True\n",
    "dictionary_name = \"test_trace\"\n",
    "dictionary_file = os.path.join(OPEN_VIRUS_DICT, dictionary_name, dictionary_name+\".xml\")\n",
    "validateDictionary(dictionary_name, dictionary_file, check, validate)"
   ]
  },
  {
   "cell_type": "code",
   "execution_count": 11,
   "metadata": {
    "button": false,
    "new_sheet": false,
    "run_control": {
     "read_only": false
    },
    "scrolled": true
   },
   "outputs": [
    {
     "name": "stdout",
     "output_type": "stream",
     "text": [
      "dictionary file:  /Users/pm286/dictionary/openVirus202011/organization/organization.xml\n",
      "\n",
      "root  /Users/pm286/dictionary/openVirus202011/organization/organization.xml :  dictionary  ~  {'title': 'organization'}\n",
      "unknown attributes  {'crossrefid', 'country'}\n",
      "unknown attributes  {'crossrefid', 'country'}\n",
      "unknown attributes  {'crossrefid', 'country'}\n",
      "entries 50\n",
      "False\n",
      "dictionary file:  /Users/pm286/dictionary/openVirus202011/test_trace/test_trace.xml\n",
      "\n",
      "root  /Users/pm286/dictionary/openVirus202011/test_trace/test_trace.xml :  dictionary  ~  {'title': 'test_trace'}\n",
      "entries 36\n",
      "False\n",
      "dictionary file:  /Users/pm286/dictionary/openVirus202011/disease/disease.xml\n",
      "\n",
      "root  /Users/pm286/dictionary/openVirus202011/disease/disease.xml :  dictionary  ~  {'title': 'disease'}\n",
      "unknown attributes  {'Sanskrit', 'Spanish_description', 'Tamil', 'wikidataAltLabel', 'Kannada', 'Malayalam', 'Hindi', 'Tamil_wikipediaPage', 'German', 'French_description', 'German_altLabel', 'Chinese', 'German_description', 'Portuguese', 'Spanish', 'French'}\n",
      "unknown attributes  {'Sanskrit', 'Spanish_description', 'Tamil', 'wikidataAltLabel', 'Kannada', 'Malayalam', 'French_altLabel', 'Hindi', 'Portuguese_altLabel', 'Tamil_wikipediaPage', 'chinese_altLabel', 'German', 'Chinese', 'Portuguese', 'Spanish_altLabel', 'Spanish', 'French'}\n",
      "unknown attributes  {'Sanskrit', 'Spanish_description', 'Tamil', 'wikidataAltLabel', 'Kannada', 'Hindi_wikipediaPage', 'Malayalam', 'Hindi', 'Tamil_wikipediaPage', 'chinese_altLabel', 'German', 'French_description', 'German_altLabel', 'Chinese', 'German_description', 'Portuguese', 'Spanish', 'French'}\n",
      "entries 50\n",
      "False\n",
      "dictionary file:  /Users/pm286/dictionary/openVirus202011/zoonosis/zoonosis.xml\n",
      "\n",
      "root  /Users/pm286/dictionary/openVirus202011/zoonosis/zoonosis.xml :  dictionary  ~  {'title': 'zoonoses'}\n",
      "entries 30\n",
      "True\n",
      "dictionary file:  /Users/pm286/dictionary/openVirus202011/npi/npi.xml\n",
      "\n",
      "root  /Users/pm286/dictionary/openVirus202011/npi/npi.xml :  dictionary  ~  {'title': 'NPIdict2'}\n",
      "entries 39\n",
      "False\n",
      "dictionary file:  /Users/pm286/dictionary/openVirus202011/drug/drug.xml\n",
      "\n",
      "root  /Users/pm286/dictionary/openVirus202011/drug/drug.xml :  dictionary  ~  {'title': 'drug'}\n",
      "unknown attributes  {'Portuguese_description', 'Sanskrit', 'Spanish_description', 'Tamil', 'Hindi', 'Portuguese', 'German_description', 'Hausa', 'German', 'picture', 'formulae', 'Spanish', 'altNames', 'Urdu'}\n",
      "unknown attributes  {'Portuguese_description', 'Sanskrit', 'Spanish_description', 'Tamil', 'Hindi', 'Portuguese', 'German_description', 'Hausa', 'German', 'picture', 'formulae', 'Spanish', 'altNames', 'Urdu'}\n",
      "unknown attributes  {'Portuguese_description', 'Sanskrit', 'Spanish_description', 'Tamil', 'Hindi', 'Portuguese', 'German_description', 'Hausa', 'German', 'picture', 'formulae', 'Spanish', 'altNames', 'Urdu'}\n",
      "entries 50\n",
      "False\n",
      "dictionary file:  /Users/pm286/dictionary/openVirus202011/country/country.xml\n",
      "\n",
      "root  /Users/pm286/dictionary/openVirus202011/country/country.xml :  dictionary  ~  {'title': 'country'}\n",
      "entries 50\n",
      "False\n",
      "dictionary file:  /Users/pm286/dictionary/openVirus202011/virus/virus.xml\n",
      "\n",
      "root  /Users/pm286/dictionary/openVirus202011/virus/virus.xml :  dictionary  ~  {'title': 'virus'}\n",
      "unknown attributes  {'wikipedia', 'wikidata'}\n",
      "unknown attributes  {'wikipedia', 'wikidata'}\n",
      "unknown attributes  {'wikipedia', 'wikidata'}\n",
      "entries 50\n",
      "False\n"
     ]
    }
   ],
   "source": [
    "check = True\n",
    "validate = True\n",
    "validateDictionaries(OPEN_VIRUS_DICT, check, validate)"
   ]
  },
  {
   "cell_type": "code",
   "execution_count": 12,
   "metadata": {
    "button": false,
    "new_sheet": false,
    "run_control": {
     "read_only": false
    },
    "scrolled": true
   },
   "outputs": [
    {
     "data": {
      "text/plain": [
       "'   \\ndeletedIds = set([\"Q123\", \"Q234\"])\\nfile = os.path.join(OPEN_VIRUS, \"country.xml\")\\nfile1 = os.path.join(OPEN_VIRUS, \"bad_country.xml\")\\nnewroot= edit(file, deletedIds)\\nxml = ET.tostring(newroot, encoding=\"UTF-8\")\\nprint(\"X \"+xml)\\n'"
      ]
     },
     "execution_count": 12,
     "metadata": {},
     "output_type": "execute_result"
    }
   ],
   "source": [
    "\"\"\"   \n",
    "deletedIds = set([\"Q123\", \"Q234\"])\n",
    "file = os.path.join(OPEN_VIRUS, \"country.xml\")\n",
    "file1 = os.path.join(OPEN_VIRUS, \"bad_country.xml\")\n",
    "newroot= edit(file, deletedIds)\n",
    "xml = ET.tostring(newroot, encoding=\"UTF-8\")\n",
    "print(\"X \"+xml)\n",
    "\"\"\""
   ]
  },
  {
   "cell_type": "code",
   "execution_count": 14,
   "metadata": {
    "button": false,
    "new_sheet": false,
    "run_control": {
     "read_only": false
    },
    "scrolled": true
   },
   "outputs": [
    {
     "ename": "SyntaxError",
     "evalue": "invalid syntax (<ipython-input-14-ee59f793a27d>, line 1)",
     "output_type": "error",
     "traceback": [
      "\u001b[0;36m  File \u001b[0;32m\"<ipython-input-14-ee59f793a27d>\"\u001b[0;36m, line \u001b[0;32m1\u001b[0m\n\u001b[0;31m    import test/test_dict.py as test_dict\u001b[0m\n\u001b[0m               ^\u001b[0m\n\u001b[0;31mSyntaxError\u001b[0m\u001b[0;31m:\u001b[0m invalid syntax\n"
     ]
    }
   ],
   "source": [
    "import test_dict.py as test_dict\n"
   ]
  },
  {
   "cell_type": "code",
   "execution_count": null,
   "metadata": {},
   "outputs": [],
   "source": []
  }
 ],
 "metadata": {
  "kernelspec": {
   "display_name": "Python 3",
   "language": "python",
   "name": "python3"
  },
  "language_info": {
   "codemirror_mode": {
    "name": "ipython",
    "version": 3
   },
   "file_extension": ".py",
   "mimetype": "text/x-python",
   "name": "python",
   "nbconvert_exporter": "python",
   "pygments_lexer": "ipython3",
   "version": "3.8.3"
  }
 },
 "nbformat": 4,
 "nbformat_minor": 4
}
