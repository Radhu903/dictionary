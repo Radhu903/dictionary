{
 "cells": [
  {
   "cell_type": "code",
   "execution_count": 1,
   "metadata": {},
   "outputs": [
    {
     "data": {
      "text/plain": [
       "['ASSERTS_AND_REPORTS',\n",
       " 'ASSERTS_ONLY',\n",
       " '__call__',\n",
       " '__class__',\n",
       " '__delattr__',\n",
       " '__dict__',\n",
       " '__dir__',\n",
       " '__doc__',\n",
       " '__eq__',\n",
       " '__format__',\n",
       " '__ge__',\n",
       " '__getattribute__',\n",
       " '__gt__',\n",
       " '__hash__',\n",
       " '__init__',\n",
       " '__init_subclass__',\n",
       " '__le__',\n",
       " '__lt__',\n",
       " '__module__',\n",
       " '__ne__',\n",
       " '__new__',\n",
       " '__pyx_vtable__',\n",
       " '__reduce__',\n",
       " '__reduce_ex__',\n",
       " '__repr__',\n",
       " '__setattr__',\n",
       " '__sizeof__',\n",
       " '__str__',\n",
       " '__subclasshook__',\n",
       " '__weakref__',\n",
       " '_append_log_message',\n",
       " '_clear_error_log',\n",
       " '_compile',\n",
       " '_domain',\n",
       " '_error_type',\n",
       " '_expand',\n",
       " '_extract',\n",
       " '_extract_rng',\n",
       " '_extract_xsd',\n",
       " '_include',\n",
       " '_level',\n",
       " '_schematron',\n",
       " '_store_report',\n",
       " '_validation_errors',\n",
       " '_validation_report',\n",
       " '_validator',\n",
       " '_validator_xslt',\n",
       " 'assertValid',\n",
       " 'assert_',\n",
       " 'error_log',\n",
       " 'schematron',\n",
       " 'validate',\n",
       " 'validation_report',\n",
       " 'validator_xslt']"
      ]
     },
     "execution_count": 1,
     "metadata": {},
     "output_type": "execute_result"
    }
   ],
   "source": [
    "from lxml import etree\n",
    "from lxml.isoschematron import Schematron\n",
    "\n",
    "schematron = Schematron(etree.XML('''\n",
    "<schema xmlns=\"http://purl.oclc.org/dsdl/schematron\" >\n",
    "  <pattern id=\"id_only_attribute\">\n",
    "    <title>id is the only permitted attribute name</title>\n",
    "    <rule context=\"*\">\n",
    "      <report test=\"@*[not(name()='id')]\">Attribute\n",
    "        <name path=\"@*[not(name()='id')]\"/> is forbidden<name/>\n",
    "      </report>\n",
    "    </rule>\n",
    "  </pattern>\n",
    "</schema>'''),\n",
    "error_finder=Schematron.ASSERTS_AND_REPORTS)\n",
    "\n",
    "dir(schematron)\n"
   ]
  },
  {
   "cell_type": "code",
   "execution_count": null,
   "metadata": {},
   "outputs": [],
   "source": []
  }
 ],
 "metadata": {
  "kernelspec": {
   "display_name": "Python 3",
   "language": "python",
   "name": "python3"
  },
  "language_info": {
   "codemirror_mode": {
    "name": "ipython",
    "version": 3
   },
   "file_extension": ".py",
   "mimetype": "text/x-python",
   "name": "python",
   "nbconvert_exporter": "python",
   "pygments_lexer": "ipython3",
   "version": "3.8.3"
  }
 },
 "nbformat": 4,
 "nbformat_minor": 4
}
